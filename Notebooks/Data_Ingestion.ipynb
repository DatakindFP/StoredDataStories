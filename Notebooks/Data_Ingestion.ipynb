{
 "cells": [
  {
   "cell_type": "code",
   "execution_count": 79,
   "metadata": {},
   "outputs": [
    {
     "data": {
      "text/plain": [
       "'C:\\\\Users\\\\us16120\\\\Projects\\\\Cheminformatics\\\\Practicum'"
      ]
     },
     "execution_count": 79,
     "metadata": {},
     "output_type": "execute_result"
    }
   ],
   "source": [
    "import os\n",
    "os.getcwd()"
   ]
  },
  {
   "cell_type": "code",
   "execution_count": 80,
   "metadata": {},
   "outputs": [],
   "source": [
    "from rdkit import Chem\n",
    "from rdkit.Chem import Draw\n",
    "from rdkit.Chem.Draw import IPythonConsole\n",
    "from rdkit.Chem import rdmolops\n",
    "import pandas as pd\n",
    "import numpy as np"
   ]
  },
  {
   "cell_type": "code",
   "execution_count": 81,
   "metadata": {},
   "outputs": [],
   "source": [
    "from rdkit.Chem import Descriptors\n",
    "from rdkit.Chem import inchi\n",
    "from rdkit.Chem import MolStandardize\n",
    "from rdkit.ML.Descriptors import MoleculeDescriptors\n",
    "from rdkit.Chem import PandasTools\n",
    "from sklearn import preprocessing\n",
    "from sklearn.preprocessing import StandardScaler\n",
    "from sklearn.feature_selection import VarianceThreshold\n",
    "from sklearn.model_selection import train_test_split\n",
    "import matplotlib.pyplot as plt \n",
    "import numpy as np\n",
    "import math\n",
    "from sklearn.ensemble import RandomForestRegressor"
   ]
  },
  {
   "cell_type": "code",
   "execution_count": 82,
   "metadata": {},
   "outputs": [],
   "source": [
    "from molvs import Standardizer\n",
    "s = Standardizer()\n",
    "from molvs import fragment\n",
    "from molvs import standardize_smiles"
   ]
  },
  {
   "cell_type": "code",
   "execution_count": 83,
   "metadata": {},
   "outputs": [],
   "source": [
    "df01 = pd.read_excel(open('JChemInfModel_52_655/Table S1.xls','rb'),\n",
    "                       sheet_name='Training set and Test Set')\n",
    "columns = ['Data Set', 'Appliation Domain (ID: In Domain, OD: Out of Domain)']\n",
    "df01.drop(columns, inplace=True, axis=1)\n",
    "df01 = df01.rename(columns={'Experimental Labels': 'EndPt'})"
   ]
  },
  {
   "cell_type": "code",
   "execution_count": 84,
   "metadata": {},
   "outputs": [
    {
     "data": {
      "text/plain": [
       "(1604, 3)"
      ]
     },
     "execution_count": 84,
     "metadata": {},
     "output_type": "execute_result"
    }
   ],
   "source": [
    "df01.shape"
   ]
  },
  {
   "cell_type": "code",
   "execution_count": 85,
   "metadata": {},
   "outputs": [
    {
     "data": {
      "text/html": [
       "<div>\n",
       "<style scoped>\n",
       "    .dataframe tbody tr th:only-of-type {\n",
       "        vertical-align: middle;\n",
       "    }\n",
       "\n",
       "    .dataframe tbody tr th {\n",
       "        vertical-align: top;\n",
       "    }\n",
       "\n",
       "    .dataframe thead th {\n",
       "        text-align: right;\n",
       "    }\n",
       "</style>\n",
       "<table border=\"1\" class=\"dataframe\">\n",
       "  <thead>\n",
       "    <tr style=\"text-align: right;\">\n",
       "      <th></th>\n",
       "      <th>CASRN</th>\n",
       "      <th>SMILES</th>\n",
       "      <th>EndPt</th>\n",
       "    </tr>\n",
       "  </thead>\n",
       "  <tbody>\n",
       "    <tr>\n",
       "      <th>0</th>\n",
       "      <td>50-00-0</td>\n",
       "      <td>C=O</td>\n",
       "      <td>RB</td>\n",
       "    </tr>\n",
       "    <tr>\n",
       "      <th>1</th>\n",
       "      <td>75-07-0</td>\n",
       "      <td>CC=O</td>\n",
       "      <td>RB</td>\n",
       "    </tr>\n",
       "    <tr>\n",
       "      <th>2</th>\n",
       "      <td>302-01-2</td>\n",
       "      <td>NN</td>\n",
       "      <td>NRB</td>\n",
       "    </tr>\n",
       "    <tr>\n",
       "      <th>3</th>\n",
       "      <td>60-34-4</td>\n",
       "      <td>CNN</td>\n",
       "      <td>NRB</td>\n",
       "    </tr>\n",
       "    <tr>\n",
       "      <th>4</th>\n",
       "      <td>79-19-6</td>\n",
       "      <td>NNC(=S)N</td>\n",
       "      <td>NRB</td>\n",
       "    </tr>\n",
       "  </tbody>\n",
       "</table>\n",
       "</div>"
      ],
      "text/plain": [
       "      CASRN    SMILES EndPt\n",
       "0   50-00-0       C=O    RB\n",
       "1   75-07-0      CC=O    RB\n",
       "2  302-01-2        NN   NRB\n",
       "3   60-34-4       CNN   NRB\n",
       "4   79-19-6  NNC(=S)N   NRB"
      ]
     },
     "execution_count": 85,
     "metadata": {},
     "output_type": "execute_result"
    }
   ],
   "source": [
    "df01.head()"
   ]
  },
  {
   "cell_type": "code",
   "execution_count": 86,
   "metadata": {},
   "outputs": [],
   "source": [
    "df02 = pd.read_excel(open('JChemInfModel_52_655/Table S1.xls','rb'),\n",
    "                       sheet_name='817 compounds with BOD% Value')\n",
    "def EndPt (row):\n",
    "   if row['BOD%'] >= 60.0 :\n",
    "      return 'RB'\n",
    "   return 'NRB'\n",
    "df02['EndPt'] = df02.apply (lambda row: EndPt(row), axis=1)\n",
    "df02beta = df02[['CASRN', 'SMILES', 'EndPt']]"
   ]
  },
  {
   "cell_type": "code",
   "execution_count": 87,
   "metadata": {},
   "outputs": [
    {
     "data": {
      "text/plain": [
       "(817, 3)"
      ]
     },
     "execution_count": 87,
     "metadata": {},
     "output_type": "execute_result"
    }
   ],
   "source": [
    "df02beta.shape"
   ]
  },
  {
   "cell_type": "code",
   "execution_count": 88,
   "metadata": {},
   "outputs": [
    {
     "data": {
      "text/html": [
       "<div>\n",
       "<style scoped>\n",
       "    .dataframe tbody tr th:only-of-type {\n",
       "        vertical-align: middle;\n",
       "    }\n",
       "\n",
       "    .dataframe tbody tr th {\n",
       "        vertical-align: top;\n",
       "    }\n",
       "\n",
       "    .dataframe thead th {\n",
       "        text-align: right;\n",
       "    }\n",
       "</style>\n",
       "<table border=\"1\" class=\"dataframe\">\n",
       "  <thead>\n",
       "    <tr style=\"text-align: right;\">\n",
       "      <th></th>\n",
       "      <th>CASRN</th>\n",
       "      <th>SMILES</th>\n",
       "      <th>EndPt</th>\n",
       "    </tr>\n",
       "  </thead>\n",
       "  <tbody>\n",
       "    <tr>\n",
       "      <th>0</th>\n",
       "      <td>25512-42-9</td>\n",
       "      <td>Clc1ccc(cc1Cl)c2ccccc2</td>\n",
       "      <td>NRB</td>\n",
       "    </tr>\n",
       "    <tr>\n",
       "      <th>1</th>\n",
       "      <td>26601-64-9</td>\n",
       "      <td>Clc1cccc(c1)c2c(Cl)c(Cl)c(Cl)c(Cl)c2Cl</td>\n",
       "      <td>NRB</td>\n",
       "    </tr>\n",
       "    <tr>\n",
       "      <th>2</th>\n",
       "      <td>2051-24-3</td>\n",
       "      <td>Clc1c(Cl)c(Cl)c(c(Cl)c1Cl)c2c(Cl)c(Cl)c(Cl)c(Cl)c2Cl</td>\n",
       "      <td>NRB</td>\n",
       "    </tr>\n",
       "    <tr>\n",
       "      <th>3</th>\n",
       "      <td>12002-48-1</td>\n",
       "      <td>Clc1cc(Cl)cc(Cl)c1</td>\n",
       "      <td>NRB</td>\n",
       "    </tr>\n",
       "    <tr>\n",
       "      <th>4</th>\n",
       "      <td>70776-03-3</td>\n",
       "      <td>Clc1c(Cl)c(Cl)c2ccccc2c1Cl</td>\n",
       "      <td>NRB</td>\n",
       "    </tr>\n",
       "  </tbody>\n",
       "</table>\n",
       "</div>"
      ],
      "text/plain": [
       "        CASRN                                             SMILES EndPt\n",
       "0  25512-42-9                             Clc1ccc(cc1Cl)c2ccccc2   NRB\n",
       "1  26601-64-9             Clc1cccc(c1)c2c(Cl)c(Cl)c(Cl)c(Cl)c2Cl   NRB\n",
       "2   2051-24-3  Clc1c(Cl)c(Cl)c(c(Cl)c1Cl)c2c(Cl)c(Cl)c(Cl)c(C...   NRB\n",
       "3  12002-48-1                                 Clc1cc(Cl)cc(Cl)c1   NRB\n",
       "4  70776-03-3                         Clc1c(Cl)c(Cl)c2ccccc2c1Cl   NRB"
      ]
     },
     "execution_count": 88,
     "metadata": {},
     "output_type": "execute_result"
    }
   ],
   "source": [
    "df02beta.head()"
   ]
  },
  {
   "cell_type": "code",
   "execution_count": 89,
   "metadata": {},
   "outputs": [],
   "source": [
    "df03 = pd.read_excel(open('JCIM_53_867/MansouriData.xlsx','rb'),\n",
    "                       sheet_name='Train+Test')\n",
    "df03 = df03[['CAS-RN', 'Smiles', 'Class']]\n",
    "df03 = df03.rename(columns={'CAS-RN': 'CASRN', 'Smiles': 'SMILES', 'Class': 'EndPt'})"
   ]
  },
  {
   "cell_type": "code",
   "execution_count": 90,
   "metadata": {},
   "outputs": [
    {
     "data": {
      "text/plain": [
       "(1055, 3)"
      ]
     },
     "execution_count": 90,
     "metadata": {},
     "output_type": "execute_result"
    }
   ],
   "source": [
    "df03.shape"
   ]
  },
  {
   "cell_type": "code",
   "execution_count": 91,
   "metadata": {},
   "outputs": [
    {
     "data": {
      "text/html": [
       "<div>\n",
       "<style scoped>\n",
       "    .dataframe tbody tr th:only-of-type {\n",
       "        vertical-align: middle;\n",
       "    }\n",
       "\n",
       "    .dataframe tbody tr th {\n",
       "        vertical-align: top;\n",
       "    }\n",
       "\n",
       "    .dataframe thead th {\n",
       "        text-align: right;\n",
       "    }\n",
       "</style>\n",
       "<table border=\"1\" class=\"dataframe\">\n",
       "  <thead>\n",
       "    <tr style=\"text-align: right;\">\n",
       "      <th></th>\n",
       "      <th>CASRN</th>\n",
       "      <th>SMILES</th>\n",
       "      <th>EndPt</th>\n",
       "    </tr>\n",
       "  </thead>\n",
       "  <tbody>\n",
       "    <tr>\n",
       "      <th>0</th>\n",
       "      <td>1120-21-4</td>\n",
       "      <td>CCCCCCCCCCC</td>\n",
       "      <td>RB</td>\n",
       "    </tr>\n",
       "    <tr>\n",
       "      <th>1</th>\n",
       "      <td>106-88-7</td>\n",
       "      <td>CCC1CO1</td>\n",
       "      <td>RB</td>\n",
       "    </tr>\n",
       "    <tr>\n",
       "      <th>2</th>\n",
       "      <td>112-50-5</td>\n",
       "      <td>CCOCCOCCOCCO</td>\n",
       "      <td>RB</td>\n",
       "    </tr>\n",
       "    <tr>\n",
       "      <th>3</th>\n",
       "      <td>64-18-6</td>\n",
       "      <td>OC=O</td>\n",
       "      <td>RB</td>\n",
       "    </tr>\n",
       "    <tr>\n",
       "      <th>4</th>\n",
       "      <td>124-17-4</td>\n",
       "      <td>CCCCOCCOCCOC(C)=O</td>\n",
       "      <td>RB</td>\n",
       "    </tr>\n",
       "  </tbody>\n",
       "</table>\n",
       "</div>"
      ],
      "text/plain": [
       "       CASRN             SMILES EndPt\n",
       "0  1120-21-4        CCCCCCCCCCC    RB\n",
       "1   106-88-7            CCC1CO1    RB\n",
       "2   112-50-5       CCOCCOCCOCCO    RB\n",
       "3    64-18-6               OC=O    RB\n",
       "4   124-17-4  CCCCOCCOCCOC(C)=O    RB"
      ]
     },
     "execution_count": 91,
     "metadata": {},
     "output_type": "execute_result"
    }
   ],
   "source": [
    "df03.head()"
   ]
  },
  {
   "cell_type": "code",
   "execution_count": 92,
   "metadata": {},
   "outputs": [],
   "source": [
    "df04 = pd.read_excel(open('JCIM_53_867/MansouriData.xlsx','rb'),\n",
    "                       sheet_name='External validation')\n",
    "df04 = df04[['CAS-RN', 'Smiles', 'class']]\n",
    "df04 = df04.rename(columns={'CAS-RN': 'CASRN', 'Smiles': 'SMILES', 'class': 'EndPt'})"
   ]
  },
  {
   "cell_type": "code",
   "execution_count": 93,
   "metadata": {},
   "outputs": [
    {
     "data": {
      "text/plain": [
       "(670, 3)"
      ]
     },
     "execution_count": 93,
     "metadata": {},
     "output_type": "execute_result"
    }
   ],
   "source": [
    "df04.shape"
   ]
  },
  {
   "cell_type": "code",
   "execution_count": 94,
   "metadata": {},
   "outputs": [
    {
     "data": {
      "text/html": [
       "<div>\n",
       "<style scoped>\n",
       "    .dataframe tbody tr th:only-of-type {\n",
       "        vertical-align: middle;\n",
       "    }\n",
       "\n",
       "    .dataframe tbody tr th {\n",
       "        vertical-align: top;\n",
       "    }\n",
       "\n",
       "    .dataframe thead th {\n",
       "        text-align: right;\n",
       "    }\n",
       "</style>\n",
       "<table border=\"1\" class=\"dataframe\">\n",
       "  <thead>\n",
       "    <tr style=\"text-align: right;\">\n",
       "      <th></th>\n",
       "      <th>CASRN</th>\n",
       "      <th>SMILES</th>\n",
       "      <th>EndPt</th>\n",
       "    </tr>\n",
       "  </thead>\n",
       "  <tbody>\n",
       "    <tr>\n",
       "      <th>0</th>\n",
       "      <td>'16421-40-2'</td>\n",
       "      <td>COc1cc(N=Nc2c(Cl)cc(cc2N(=O)=O)N(=O)=O)c(cc1N(Cc1ccccc1)CCOC(=O)C)NC(=O)C</td>\n",
       "      <td>NRB</td>\n",
       "    </tr>\n",
       "    <tr>\n",
       "      <th>1</th>\n",
       "      <td>'16421-41-3'</td>\n",
       "      <td>COc1cc(/N=N/c2ccc(cc2[N+](=O)[O-])[N+](=O)[O-])c(cc1N(Cc1ccccc1)CCOC(=O)C)NC(=O)C</td>\n",
       "      <td>NRB</td>\n",
       "    </tr>\n",
       "    <tr>\n",
       "      <th>2</th>\n",
       "      <td>'16586-42-8'</td>\n",
       "      <td>N#CCCN(c1ccc(c(c1)C)/N=N/c1nc2c(s1)cc(cc2)[N+](=O)[O-])CC</td>\n",
       "      <td>NRB</td>\n",
       "    </tr>\n",
       "    <tr>\n",
       "      <th>3</th>\n",
       "      <td>'25150-28-1'</td>\n",
       "      <td>N#CCCN(c1ccc(cc1)/N=N/c1nc2c(s1)c(Cl)cc(c2)Cl)CC</td>\n",
       "      <td>NRB</td>\n",
       "    </tr>\n",
       "    <tr>\n",
       "      <th>4</th>\n",
       "      <td>'25176-89-0'</td>\n",
       "      <td>N#CCCN(c1ccc(cc1)/N=N/c1sc2c(n1)cc(c(c2)Cl)Cl)CC</td>\n",
       "      <td>NRB</td>\n",
       "    </tr>\n",
       "  </tbody>\n",
       "</table>\n",
       "</div>"
      ],
      "text/plain": [
       "          CASRN                                             SMILES EndPt\n",
       "0  '16421-40-2'  COc1cc(N=Nc2c(Cl)cc(cc2N(=O)=O)N(=O)=O)c(cc1N(...   NRB\n",
       "1  '16421-41-3'  COc1cc(/N=N/c2ccc(cc2[N+](=O)[O-])[N+](=O)[O-]...   NRB\n",
       "2  '16586-42-8'  N#CCCN(c1ccc(c(c1)C)/N=N/c1nc2c(s1)cc(cc2)[N+]...   NRB\n",
       "3  '25150-28-1'   N#CCCN(c1ccc(cc1)/N=N/c1nc2c(s1)c(Cl)cc(c2)Cl)CC   NRB\n",
       "4  '25176-89-0'   N#CCCN(c1ccc(cc1)/N=N/c1sc2c(n1)cc(c(c2)Cl)Cl)CC   NRB"
      ]
     },
     "execution_count": 94,
     "metadata": {},
     "output_type": "execute_result"
    }
   ],
   "source": [
    "df04.head()"
   ]
  },
  {
   "cell_type": "code",
   "execution_count": 95,
   "metadata": {},
   "outputs": [],
   "source": [
    "train_df = PandasTools.LoadSDF(\"OPERA/TR_RBioDeg_1197.sdf\")\n",
    "test_df = PandasTools.LoadSDF(\"OPERA/TST_RBioDeg_411.sdf\")\n",
    "df05 = pd.concat([train_df[['CAS', 'Canonical_QSARr', 'Ready_Biodeg']],\n",
    "                 test_df[['CAS', 'Canonical_QSARr', 'Ready_Biodeg']]], ignore_index = True)\n",
    "df05['Ready_Biodeg'] = pd.to_numeric(df05['Ready_Biodeg'])\n",
    "def EndPtBeta (row):\n",
    "   if row['Ready_Biodeg'] >= 0.5 :\n",
    "      return 'RB'\n",
    "   return 'NRB'\n",
    "df05['EndPt'] = df05.apply (lambda row: EndPtBeta(row), axis=1)\n",
    "df05 = df05.rename(columns={'CAS': 'CASRN', 'Canonical_QSARr': 'SMILES'})\n",
    "df05beta = df05[['CASRN', 'SMILES', 'EndPt']]"
   ]
  },
  {
   "cell_type": "code",
   "execution_count": 96,
   "metadata": {},
   "outputs": [
    {
     "data": {
      "text/plain": [
       "(1608, 3)"
      ]
     },
     "execution_count": 96,
     "metadata": {},
     "output_type": "execute_result"
    }
   ],
   "source": [
    "df05beta.shape"
   ]
  },
  {
   "cell_type": "code",
   "execution_count": 97,
   "metadata": {},
   "outputs": [
    {
     "data": {
      "text/html": [
       "<div>\n",
       "<style scoped>\n",
       "    .dataframe tbody tr th:only-of-type {\n",
       "        vertical-align: middle;\n",
       "    }\n",
       "\n",
       "    .dataframe tbody tr th {\n",
       "        vertical-align: top;\n",
       "    }\n",
       "\n",
       "    .dataframe thead th {\n",
       "        text-align: right;\n",
       "    }\n",
       "</style>\n",
       "<table border=\"1\" class=\"dataframe\">\n",
       "  <thead>\n",
       "    <tr style=\"text-align: right;\">\n",
       "      <th></th>\n",
       "      <th>CASRN</th>\n",
       "      <th>SMILES</th>\n",
       "      <th>EndPt</th>\n",
       "    </tr>\n",
       "  </thead>\n",
       "  <tbody>\n",
       "    <tr>\n",
       "      <th>0</th>\n",
       "      <td>50-00-0</td>\n",
       "      <td>C=O</td>\n",
       "      <td>RB</td>\n",
       "    </tr>\n",
       "    <tr>\n",
       "      <th>1</th>\n",
       "      <td>50-18-0</td>\n",
       "      <td>O=P1(NCCCO1)N(CCCl)CCCl</td>\n",
       "      <td>NRB</td>\n",
       "    </tr>\n",
       "    <tr>\n",
       "      <th>2</th>\n",
       "      <td>50-21-5</td>\n",
       "      <td>CC(O)C(O)=O</td>\n",
       "      <td>RB</td>\n",
       "    </tr>\n",
       "    <tr>\n",
       "      <th>3</th>\n",
       "      <td>50-30-6</td>\n",
       "      <td>OC(=O)c1c(Cl)cccc1Cl</td>\n",
       "      <td>NRB</td>\n",
       "    </tr>\n",
       "    <tr>\n",
       "      <th>4</th>\n",
       "      <td>50-31-7</td>\n",
       "      <td>OC(=O)c1c(Cl)c(Cl)ccc1Cl</td>\n",
       "      <td>NRB</td>\n",
       "    </tr>\n",
       "  </tbody>\n",
       "</table>\n",
       "</div>"
      ],
      "text/plain": [
       "     CASRN                    SMILES EndPt\n",
       "0  50-00-0                       C=O    RB\n",
       "1  50-18-0   O=P1(NCCCO1)N(CCCl)CCCl   NRB\n",
       "2  50-21-5               CC(O)C(O)=O    RB\n",
       "3  50-30-6      OC(=O)c1c(Cl)cccc1Cl   NRB\n",
       "4  50-31-7  OC(=O)c1c(Cl)c(Cl)ccc1Cl   NRB"
      ]
     },
     "execution_count": 97,
     "metadata": {},
     "output_type": "execute_result"
    }
   ],
   "source": [
    "df05beta.head()"
   ]
  },
  {
   "cell_type": "code",
   "execution_count": 98,
   "metadata": {},
   "outputs": [],
   "source": [
    "df01['Source'] = 'Cheng'\n",
    "df02beta['Source'] = 'Cheng'\n",
    "df03['Source'] = 'Mansouri'\n",
    "df04['Source'] = 'Mansouri'\n",
    "df05beta['Source'] = 'OPERA'\n",
    "\n",
    "frames = [df01, df02beta, df03, df04, df05beta]\n",
    "df = pd.concat(frames, ignore_index = True)"
   ]
  },
  {
   "cell_type": "code",
   "execution_count": 99,
   "metadata": {},
   "outputs": [
    {
     "data": {
      "text/plain": [
       "(5754, 4)"
      ]
     },
     "execution_count": 99,
     "metadata": {},
     "output_type": "execute_result"
    }
   ],
   "source": [
    "df.shape"
   ]
  },
  {
   "cell_type": "code",
   "execution_count": 100,
   "metadata": {},
   "outputs": [
    {
     "data": {
      "text/html": [
       "<div>\n",
       "<style scoped>\n",
       "    .dataframe tbody tr th:only-of-type {\n",
       "        vertical-align: middle;\n",
       "    }\n",
       "\n",
       "    .dataframe tbody tr th {\n",
       "        vertical-align: top;\n",
       "    }\n",
       "\n",
       "    .dataframe thead th {\n",
       "        text-align: right;\n",
       "    }\n",
       "</style>\n",
       "<table border=\"1\" class=\"dataframe\">\n",
       "  <thead>\n",
       "    <tr style=\"text-align: right;\">\n",
       "      <th></th>\n",
       "      <th>CASRN</th>\n",
       "      <th>SMILES</th>\n",
       "      <th>EndPt</th>\n",
       "      <th>Source</th>\n",
       "    </tr>\n",
       "  </thead>\n",
       "  <tbody>\n",
       "    <tr>\n",
       "      <th>2277</th>\n",
       "      <td>3347-22-6</td>\n",
       "      <td>O=C1C2=C(SC(=C(S2)C#N)C#N)C(=O)c3ccccc13</td>\n",
       "      <td>NRB</td>\n",
       "      <td>Cheng</td>\n",
       "    </tr>\n",
       "    <tr>\n",
       "      <th>2943</th>\n",
       "      <td>51-52-5</td>\n",
       "      <td>CCCC1=CC(=O)NC(=S)N1</td>\n",
       "      <td>NRB</td>\n",
       "      <td>Mansouri</td>\n",
       "    </tr>\n",
       "    <tr>\n",
       "      <th>3483</th>\n",
       "      <td>'23355-64-8'</td>\n",
       "      <td>OCCN(c1ccc(c(c1)Cl)/N=N/c1c(Cl)cc(cc1Cl)[N+](=O)[O-])CCO</td>\n",
       "      <td>NRB</td>\n",
       "      <td>Mansouri</td>\n",
       "    </tr>\n",
       "    <tr>\n",
       "      <th>2539</th>\n",
       "      <td>7360-38-5</td>\n",
       "      <td>CCCCC(CC)C(=O)OCC(COC(=O)C(CC)CCCC)OC(=O)C(CC)CCCC</td>\n",
       "      <td>RB</td>\n",
       "      <td>Mansouri</td>\n",
       "    </tr>\n",
       "    <tr>\n",
       "      <th>4537</th>\n",
       "      <td>111-46-6</td>\n",
       "      <td>OCCOCCO</td>\n",
       "      <td>RB</td>\n",
       "      <td>OPERA</td>\n",
       "    </tr>\n",
       "  </tbody>\n",
       "</table>\n",
       "</div>"
      ],
      "text/plain": [
       "             CASRN                                             SMILES EndPt  \\\n",
       "2277     3347-22-6           O=C1C2=C(SC(=C(S2)C#N)C#N)C(=O)c3ccccc13   NRB   \n",
       "2943       51-52-5                               CCCC1=CC(=O)NC(=S)N1   NRB   \n",
       "3483  '23355-64-8'  OCCN(c1ccc(c(c1)Cl)/N=N/c1c(Cl)cc(cc1Cl)[N+](=...   NRB   \n",
       "2539     7360-38-5  CCCCC(CC)C(=O)OCC(COC(=O)C(CC)CCCC)OC(=O)C(CC)...    RB   \n",
       "4537      111-46-6                                            OCCOCCO    RB   \n",
       "\n",
       "        Source  \n",
       "2277     Cheng  \n",
       "2943  Mansouri  \n",
       "3483  Mansouri  \n",
       "2539  Mansouri  \n",
       "4537     OPERA  "
      ]
     },
     "execution_count": 100,
     "metadata": {},
     "output_type": "execute_result"
    }
   ],
   "source": [
    "df.sample(5).head()"
   ]
  },
  {
   "cell_type": "code",
   "execution_count": 101,
   "metadata": {},
   "outputs": [],
   "source": [
    "for i in range(len(df)):\n",
    "    df.at[i, 'molecule'] = Chem.MolFromSmiles(df.loc[i, 'SMILES'])\n",
    "    parentStd = standardize_smiles(df.loc[i, 'SMILES'])\n",
    "    df.at[i, 'std_mol'] = Chem.MolFromSmiles(parentStd)\n",
    "    # mols = rdmolops.GetMolFrags(df.at[i, 'std_mol'], asMols = True)\n",
    "    # mol = max(mols, default=df.at[i, 'std_mol'], key=lambda m: m.GetNumAtoms())\n",
    "    # df.at[i, 'lgstFrag'] = mol\n",
    "    df.at[i, 'InChI'] = inchi.MolToInchi(df.at[i, 'std_mol'])"
   ]
  },
  {
   "cell_type": "code",
   "execution_count": 102,
   "metadata": {},
   "outputs": [
    {
     "data": {
      "text/html": [
       "<div>\n",
       "<style scoped>\n",
       "    .dataframe tbody tr th:only-of-type {\n",
       "        vertical-align: middle;\n",
       "    }\n",
       "\n",
       "    .dataframe tbody tr th {\n",
       "        vertical-align: top;\n",
       "    }\n",
       "\n",
       "    .dataframe thead th {\n",
       "        text-align: right;\n",
       "    }\n",
       "</style>\n",
       "<table border=\"1\" class=\"dataframe\">\n",
       "  <thead>\n",
       "    <tr style=\"text-align: right;\">\n",
       "      <th></th>\n",
       "      <th>CASRN</th>\n",
       "      <th>SMILES</th>\n",
       "      <th>EndPt</th>\n",
       "      <th>Source</th>\n",
       "      <th>molecule</th>\n",
       "      <th>std_mol</th>\n",
       "      <th>InChI</th>\n",
       "    </tr>\n",
       "  </thead>\n",
       "  <tbody>\n",
       "    <tr>\n",
       "      <th>1626</th>\n",
       "      <td>123-91-1</td>\n",
       "      <td>C1COCCO1</td>\n",
       "      <td>NRB</td>\n",
       "      <td>Cheng</td>\n",
       "      <td><img src=\"data:image/png;base64,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\" alt=\"Mol\"/></td>\n",
       "      <td><img src=\"data:image/png;base64,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\" alt=\"Mol\"/></td>\n",
       "      <td>InChI=1S/C4H8O2/c1-2-6-4-3-5-1/h1-4H2</td>\n",
       "    </tr>\n",
       "    <tr>\n",
       "      <th>3795</th>\n",
       "      <td>'47458-32-2'</td>\n",
       "      <td>CCCCCCCCCCCCCCCCCCC1CC(=O)OC1=O</td>\n",
       "      <td>NRB</td>\n",
       "      <td>Mansouri</td>\n",
       "      <td><img src=\"data:image/png;base64,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\" alt=\"Mol\"/></td>\n",
       "      <td><img src=\"data:image/png;base64,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\" alt=\"Mol\"/></td>\n",
       "      <td>InChI=1S/C22H40O3/c1-2-3-4-5-6-7-8-9-10-11-12-13-14-15-16-17-18-20-19-21(23)25-22(20)24/h20H,2-19H2,1H3</td>\n",
       "    </tr>\n",
       "    <tr>\n",
       "      <th>3536</th>\n",
       "      <td>'2134-15-8'</td>\n",
       "      <td>Oc1c(Br)cc2c(c1Br)Oc1c(C32OC(=O)c2c3c(Cl)c(Cl)c(c2Cl)Cl)cc(c(c1Br)O)Br</td>\n",
       "      <td>NRB</td>\n",
       "      <td>Mansouri</td>\n",
       "      <td><img src=\"data:image/png;base64,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\" alt=\"Mol\"/></td>\n",
       "      <td><img src=\"data:image/png;base64,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\" alt=\"Mol\"/></td>\n",
       "      <td>InChI=1S/C20H4Br4Cl4O5/c21-5-1-3-17(9(23)15(5)29)32-18-4(2-6(22)16(30)10(18)24)20(3)8-7(19(31)33-20)11(25)13(27)14(28)12(8)26/h1-2,29-30H</td>\n",
       "    </tr>\n",
       "    <tr>\n",
       "      <th>4512</th>\n",
       "      <td>109-89-7</td>\n",
       "      <td>CCNCC</td>\n",
       "      <td>RB</td>\n",
       "      <td>OPERA</td>\n",
       "      <td><img src=\"data:image/png;base64,iVBORw0KGgoAAAANSUhEUgAAAMgAAADICAIAAAAiOjnJAAAABmJLR0QA/wD/AP+gvaeTAAAJdElEQVR4nO3cS0xT2QPH8cP75QMURY34BHEiaOozoiGiTQYV48IwbizLzooym0kXkDQhE9NkNnXJsnGHG/41ygIVjIpGtIowIg6iIhpFKyoFRYQzi9P/HUZ5We7v3oK/z4q0l3NPy7e3997eEiWlFER6izZ7AjQ3MSyCYFgEwbAIgmERBMMiCIZFEAyLIBgWQTAsgmBYBMGwCIJhEQTDIgiGRRAMiyAYFkEwLIJgWATBsAiCYREEwyIIhkUQDIsgGBZBMCyCYFgEwbAIgmERBMMiCIZFEAyLIBgWQTAsgmBYBMGwCIJhEQTDIgiGRRAMiyAYFkEwLIJgWATBsAiCYREEwyIIhkUQDIsgGBZBMCyCYFgEwbAIgmERBMMiCIZFEAyLIBgWQTAsgmBYBMGwCIJhEQTDIgiGRRAMiyAYFkEwLIJgWATBsAiCYREEwyIIhkUQDIsgGBZBMCyCYFgEwbAIgmERBMMiCIZFEAyLIBgWQTAsgmBYBMGwCIJhEUREh9XT01NaWnry5Emr1dra2mr2dMzX0dFRXFxcVVV15MiRrq4us6czKRmRgsFgRUVFYmKiEGLevHlCiNjY2LKyskAgYPbUzBEIBMrKymJjY7UnJDExsaKiIhgMmj218UVcWKOjozU1NatWrRJCREVFlZSUtLS0OBwO9ZympaV5PJ7h4WGzp2mckZERr9e7ZMkSIUR0dLTNZmtpabHb7dHR0UKIFStWVFdXj4yMmD3Nr0VWWM3NzXv27FGb0m3btl29elW7q729/eDBg+qujRs3nj9/3sR5GubSpUubN29Wj7qwsLClpUW7q7m5OT8/X921ffv2sc9VJIiUsF68eKG9CpcvXz7Rq9Dn861fv149m8XFxZ2dncZP1Rjd3d02m0090szMTK/X++0y327dnz59avxUx2V+WENDQx6PZ8GCBUKI+Ph4h8Px/v37SZb//PmztnxcXNyUy886wWDQ5XKp/cuUlBSXy/Xx48dJlh8YGNCWT05OnnJ5Y5gcls/nW7dunbYFevTo0TR/UW3hYmJitC3cly9foFM1gNoCZWZmhrEFms4WzkimhdXe3l5UVKTtM9XV1YUxyK1bt/bu3asG2bp165UrV3Sfp2Fu3ry5e/du9Vh27Nhx7dq1MAZpaGjYsmWLGmTfvn13797VfZ7TZEJYgUBAO8pbtGjRDI/y1Kt89erV2mbvyZMnOs7WAM+fP7fZbFFRUboc5amjyKVLl2pHka9evdJxttNkaFjDw8PV1dXp6enqvJTdbn/9+rUuIweDwcrKyqSkJLVfUlVVNTg4qMvIUIODg1VVVSkpKUKIpKSkyspKvc5L9fX1OZ3O+Ph4IURqaqrb7R4aGtJl5GkyLqwLFy7k5uaq7cqBAwdaW1t1X8WzZ8/US3/JktyNG0e8Xjk6qvtKdOPzydzcDxkZy9WGtqurS/dVdHR0HD58WD3nGzZsOHv2rO6rmIgRYT18+LCkpEQ9vOzs7JqaGujqGhsbjx9/IIQUQhYUSL8furZw+P2yoECqGR4//r/Gxkbo6urr6zdt2qSef6vV2tbWBl2dgg2rv7/f5XIlJCSoDyJcLtenT5+ga1RGRqTXKzMypBAyOlrabPLlSwNWO7U3b6TDIWNipBBy0SLp8UhjjmXVOZqFCxdq52jevXsHXSMqLLULmZGRoe1CvjT8b9vfL10umZAghZDz5kmXSxpS9fg+f5Yej1y4UAoh4+KkwyH7+oyew5s3bxwOhzpHs3jxYo/HgztHAwnrxo0bu3btUtvenTt3Xr9+HbGWaXr4UJaUhN53srMl+H14fPX1ctOm0BysVmnIe9GE/H5/QUGB+utYLJbLly8j1qJzWNrusxBi5cqVXq93NDL2n+vrZW5u6E974IAEHDmMr6NDFheH1rthgzRw73kKPp9v7dq12jka3Q8ddAtrYGDA7XarKzqSk5OdTmd/f79eg+tieFhWV8v0dCmEjI2VdrvU6VzH+Pr6pNMp4+OlEDI1VbrdZr4Rj2twcNDtds+fP1+d7HA6nR8+fNBrcH3C8vl8Y09RPn78WJdhEQIB+O6zOnRYuvTfQwczzlBOV09Pz9jTs3q9ycw0rNu3b8/GD1Xu35c//xx6h/rpJxnW50nja2iQW7aERt63T5r3mcr3+eoDpaamphkOGH5YYz8GTk9Phx5igJw5I9esCUVw7Jic4SUnT5/KY8dCo61ZI8+c0WmWRhkdHfV6vcuWLdM+Au/u7g57tHDCmksXrgwNSY9HLlggY2LkvXszGuqvv2RcnExOli6XjIDrVsL0vRftTOS7wxp7qZ3Var1//34Ya400PT3y9Gkdxjl9Wvb06DCO6To7O7UPS8K7COc7whp7cXBOTs6cvDg4P18KIf/++z832u0yP//fBbSfx/7WtzfOAZNcGD2laX39q6+vr7y8PC8vr66uTn2doa2tTYts7vnzT7NnEBkKCwvv3LmjvsrR0NBgsVhKS0t7e3un9cuTd6cudFFfEVEXuvT29s7sZRDR8vOl3f71RuuH3WJp3r59q12Ek5aWNp2LcCYL6+LFi3l5eaq//fv335vhzu1soMLyeP4TCsNSHjx4cOjQIdVDTk7OuXPnJll4wrD8fr8aIisrq7a2FjDPSKTCklIKIbV9SIY1Vm1tbVZWlmrDP/E1SbETvUVaLJYTJ07k5eWVl5er615+KOfPiz/+EOPuRjY1iaior2/8/zf85r6jR48WFRWdOnWqtbXVYrFMtFiUlNLIaUW4PXtEbq6org79/Msvorxc/PqraGsT166FbhQi9PPY3/r2xh9cRP9TEHNVVorffjN7ErMWw5rQwYPCbhenTpk9j9lpwn0sEkL8/rvIzv6B9p90xC3WZLKyhN0umprMnscsxLCmoHbk6XvxqJAguMUiCIZFEAyLIBgWQTAsgmBYBMGwCIJhEQTDIgiGRRAMiyAYFkEwLIJgWATBsAiCYREEwyIIhkUQDIsgGBZBMCyCYFgEwbAIgmERBMMiCIZFEAyLIBgWQTAsgmBYBMGwCIJhEQTDIgiGRRAMiyAYFkEwLIJgWATBsAiCYREEwyIIhkUQDIsgGBZBMCyCYFgEwbAIgmERBMMiCIZFEAyLIBgWQTAsgmBYBMGwCIJhEQTDIgiGRRAMiyAYFkEwLIJgWATBsAiCYREEwyIIhkUQDIsgGBZBMCyCYFgEwbAIgmERBMMiCIZFEAyLIBgWQTAsgmBYBMGwCOIfFFOzR7Wd+DMAAAAASUVORK5CYII=\" alt=\"Mol\"/></td>\n",
       "      <td><img src=\"data:image/png;base64,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\" alt=\"Mol\"/></td>\n",
       "      <td>InChI=1S/C4H11N/c1-3-5-4-2/h5H,3-4H2,1-2H3</td>\n",
       "    </tr>\n",
       "    <tr>\n",
       "      <th>4710</th>\n",
       "      <td>504-03-0</td>\n",
       "      <td>CC1CCCC(C)N1</td>\n",
       "      <td>NRB</td>\n",
       "      <td>OPERA</td>\n",
       "      <td><img src=\"data:image/png;base64,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\" alt=\"Mol\"/></td>\n",
       "      <td><img src=\"data:image/png;base64,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\" alt=\"Mol\"/></td>\n",
       "      <td>InChI=1S/C7H15N/c1-6-4-3-5-7(2)8-6/h6-8H,3-5H2,1-2H3</td>\n",
       "    </tr>\n",
       "  </tbody>\n",
       "</table>\n",
       "</div>"
      ],
      "text/plain": [
       "             CASRN                                             SMILES EndPt  \\\n",
       "1626      123-91-1                                           C1COCCO1   NRB   \n",
       "3795  '47458-32-2'                    CCCCCCCCCCCCCCCCCCC1CC(=O)OC1=O   NRB   \n",
       "3536   '2134-15-8'  Oc1c(Br)cc2c(c1Br)Oc1c(C32OC(=O)c2c3c(Cl)c(Cl)...   NRB   \n",
       "4512      109-89-7                                              CCNCC    RB   \n",
       "4710      504-03-0                                       CC1CCCC(C)N1   NRB   \n",
       "\n",
       "        Source                                           molecule  \\\n",
       "1626     Cheng  <img src=\"data:image/png;base64,iVBORw0KGgoAAA...   \n",
       "3795  Mansouri  <img src=\"data:image/png;base64,iVBORw0KGgoAAA...   \n",
       "3536  Mansouri  <img src=\"data:image/png;base64,iVBORw0KGgoAAA...   \n",
       "4512     OPERA  <img src=\"data:image/png;base64,iVBORw0KGgoAAA...   \n",
       "4710     OPERA  <img src=\"data:image/png;base64,iVBORw0KGgoAAA...   \n",
       "\n",
       "                                                std_mol  \\\n",
       "1626  <img src=\"data:image/png;base64,iVBORw0KGgoAAA...   \n",
       "3795  <img src=\"data:image/png;base64,iVBORw0KGgoAAA...   \n",
       "3536  <img src=\"data:image/png;base64,iVBORw0KGgoAAA...   \n",
       "4512  <img src=\"data:image/png;base64,iVBORw0KGgoAAA...   \n",
       "4710  <img src=\"data:image/png;base64,iVBORw0KGgoAAA...   \n",
       "\n",
       "                                                  InChI  \n",
       "1626              InChI=1S/C4H8O2/c1-2-6-4-3-5-1/h1-4H2  \n",
       "3795  InChI=1S/C22H40O3/c1-2-3-4-5-6-7-8-9-10-11-12-...  \n",
       "3536  InChI=1S/C20H4Br4Cl4O5/c21-5-1-3-17(9(23)15(5)...  \n",
       "4512         InChI=1S/C4H11N/c1-3-5-4-2/h5H,3-4H2,1-2H3  \n",
       "4710  InChI=1S/C7H15N/c1-6-4-3-5-7(2)8-6/h6-8H,3-5H2...  "
      ]
     },
     "execution_count": 102,
     "metadata": {},
     "output_type": "execute_result"
    }
   ],
   "source": [
    "df.sample(5).head()"
   ]
  },
  {
   "cell_type": "code",
   "execution_count": 103,
   "metadata": {},
   "outputs": [],
   "source": [
    "# replicates\n",
    "ids = df['SMILES']\n",
    "df_dup = df[ids.isin(ids[ids.duplicated()])].sort_values('SMILES')"
   ]
  },
  {
   "cell_type": "code",
   "execution_count": 105,
   "metadata": {},
   "outputs": [
    {
     "data": {
      "text/plain": [
       "(4341, 7)"
      ]
     },
     "execution_count": 105,
     "metadata": {},
     "output_type": "execute_result"
    }
   ],
   "source": [
    "df_dup.shape"
   ]
  },
  {
   "cell_type": "code",
   "execution_count": 104,
   "metadata": {},
   "outputs": [
    {
     "data": {
      "text/html": [
       "<div>\n",
       "<style scoped>\n",
       "    .dataframe tbody tr th:only-of-type {\n",
       "        vertical-align: middle;\n",
       "    }\n",
       "\n",
       "    .dataframe tbody tr th {\n",
       "        vertical-align: top;\n",
       "    }\n",
       "\n",
       "    .dataframe thead th {\n",
       "        text-align: right;\n",
       "    }\n",
       "</style>\n",
       "<table border=\"1\" class=\"dataframe\">\n",
       "  <thead>\n",
       "    <tr style=\"text-align: right;\">\n",
       "      <th></th>\n",
       "      <th>CASRN</th>\n",
       "      <th>SMILES</th>\n",
       "      <th>EndPt</th>\n",
       "      <th>Source</th>\n",
       "      <th>molecule</th>\n",
       "      <th>std_mol</th>\n",
       "      <th>InChI</th>\n",
       "    </tr>\n",
       "  </thead>\n",
       "  <tbody>\n",
       "    <tr>\n",
       "      <th>2800</th>\n",
       "      <td>98-81-7</td>\n",
       "      <td>BrC(=C)c1ccccc1</td>\n",
       "      <td>NRB</td>\n",
       "      <td>Mansouri</td>\n",
       "      <td><img src=\"data:image/png;base64,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\" alt=\"Mol\"/></td>\n",
       "      <td><img src=\"data:image/png;base64,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\" alt=\"Mol\"/></td>\n",
       "      <td>InChI=1S/C8H7Br/c1-7(9)8-5-3-2-4-6-8/h2-6H,1H2</td>\n",
       "    </tr>\n",
       "    <tr>\n",
       "      <th>1853</th>\n",
       "      <td>98-81-7</td>\n",
       "      <td>BrC(=C)c1ccccc1</td>\n",
       "      <td>NRB</td>\n",
       "      <td>Cheng</td>\n",
       "      <td><img src=\"data:image/png;base64,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\" alt=\"Mol\"/></td>\n",
       "      <td><img src=\"data:image/png;base64,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\" alt=\"Mol\"/></td>\n",
       "      <td>InChI=1S/C8H7Br/c1-7(9)8-5-3-2-4-6-8/h2-6H,1H2</td>\n",
       "    </tr>\n",
       "    <tr>\n",
       "      <th>1210</th>\n",
       "      <td>98-81-7</td>\n",
       "      <td>BrC(=C)c1ccccc1</td>\n",
       "      <td>NRB</td>\n",
       "      <td>Cheng</td>\n",
       "      <td><img src=\"data:image/png;base64,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\" alt=\"Mol\"/></td>\n",
       "      <td><img src=\"data:image/png;base64,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\" alt=\"Mol\"/></td>\n",
       "      <td>InChI=1S/C8H7Br/c1-7(9)8-5-3-2-4-6-8/h2-6H,1H2</td>\n",
       "    </tr>\n",
       "    <tr>\n",
       "      <th>4256</th>\n",
       "      <td>79-27-6</td>\n",
       "      <td>BrC(Br)C(Br)Br</td>\n",
       "      <td>NRB</td>\n",
       "      <td>OPERA</td>\n",
       "      <td><img src=\"data:image/png;base64,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\" alt=\"Mol\"/></td>\n",
       "      <td><img src=\"data:image/png;base64,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\" alt=\"Mol\"/></td>\n",
       "      <td>InChI=1S/C2H2Br4/c3-1(4)2(5)6/h1-2H</td>\n",
       "    </tr>\n",
       "    <tr>\n",
       "      <th>556</th>\n",
       "      <td>79-27-6</td>\n",
       "      <td>BrC(Br)C(Br)Br</td>\n",
       "      <td>NRB</td>\n",
       "      <td>Cheng</td>\n",
       "      <td><img src=\"data:image/png;base64,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\" alt=\"Mol\"/></td>\n",
       "      <td><img src=\"data:image/png;base64,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\" alt=\"Mol\"/></td>\n",
       "      <td>InChI=1S/C2H2Br4/c3-1(4)2(5)6/h1-2H</td>\n",
       "    </tr>\n",
       "  </tbody>\n",
       "</table>\n",
       "</div>"
      ],
      "text/plain": [
       "        CASRN           SMILES EndPt    Source  \\\n",
       "2800  98-81-7  BrC(=C)c1ccccc1   NRB  Mansouri   \n",
       "1853  98-81-7  BrC(=C)c1ccccc1   NRB     Cheng   \n",
       "1210  98-81-7  BrC(=C)c1ccccc1   NRB     Cheng   \n",
       "4256  79-27-6   BrC(Br)C(Br)Br   NRB     OPERA   \n",
       "556   79-27-6   BrC(Br)C(Br)Br   NRB     Cheng   \n",
       "\n",
       "                                               molecule  \\\n",
       "2800  <img src=\"data:image/png;base64,iVBORw0KGgoAAA...   \n",
       "1853  <img src=\"data:image/png;base64,iVBORw0KGgoAAA...   \n",
       "1210  <img src=\"data:image/png;base64,iVBORw0KGgoAAA...   \n",
       "4256  <img src=\"data:image/png;base64,iVBORw0KGgoAAA...   \n",
       "556   <img src=\"data:image/png;base64,iVBORw0KGgoAAA...   \n",
       "\n",
       "                                                std_mol  \\\n",
       "2800  <img src=\"data:image/png;base64,iVBORw0KGgoAAA...   \n",
       "1853  <img src=\"data:image/png;base64,iVBORw0KGgoAAA...   \n",
       "1210  <img src=\"data:image/png;base64,iVBORw0KGgoAAA...   \n",
       "4256  <img src=\"data:image/png;base64,iVBORw0KGgoAAA...   \n",
       "556   <img src=\"data:image/png;base64,iVBORw0KGgoAAA...   \n",
       "\n",
       "                                               InChI  \n",
       "2800  InChI=1S/C8H7Br/c1-7(9)8-5-3-2-4-6-8/h2-6H,1H2  \n",
       "1853  InChI=1S/C8H7Br/c1-7(9)8-5-3-2-4-6-8/h2-6H,1H2  \n",
       "1210  InChI=1S/C8H7Br/c1-7(9)8-5-3-2-4-6-8/h2-6H,1H2  \n",
       "4256             InChI=1S/C2H2Br4/c3-1(4)2(5)6/h1-2H  \n",
       "556              InChI=1S/C2H2Br4/c3-1(4)2(5)6/h1-2H  "
      ]
     },
     "execution_count": 104,
     "metadata": {},
     "output_type": "execute_result"
    }
   ],
   "source": [
    "df_dup.head()"
   ]
  },
  {
   "cell_type": "code",
   "execution_count": null,
   "metadata": {},
   "outputs": [],
   "source": []
  }
 ],
 "metadata": {
  "kernelspec": {
   "display_name": "Python 3",
   "language": "python",
   "name": "python3"
  },
  "language_info": {
   "codemirror_mode": {
    "name": "ipython",
    "version": 3
   },
   "file_extension": ".py",
   "mimetype": "text/x-python",
   "name": "python",
   "nbconvert_exporter": "python",
   "pygments_lexer": "ipython3",
   "version": "3.7.3"
  }
 },
 "nbformat": 4,
 "nbformat_minor": 2
}
